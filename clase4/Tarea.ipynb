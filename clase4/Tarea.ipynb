{
 "cells": [
  {
   "cell_type": "markdown",
   "metadata": {},
   "source": [
    "ACTIVIDAD 1"
   ]
  },
  {
   "cell_type": "code",
   "execution_count": 82,
   "metadata": {},
   "outputs": [],
   "source": [
    "empleado_01=[(20222333,45,2,20000),(333456234,40,0,25000),(45432345,41,1,10000)]"
   ]
  },
  {
   "cell_type": "code",
   "execution_count": 1,
   "metadata": {},
   "outputs": [],
   "source": [
    "def superanSalarioActividad01(matriz:list,umbral):\n",
    "    coleccion=[]\n",
    "    for indice in range(len(matriz)):\n",
    "        if matriz[indice][3] > umbral:\n",
    "            coleccion.append(matriz[indice])\n",
    "    return coleccion"
   ]
  },
  {
   "cell_type": "code",
   "execution_count": 40,
   "metadata": {},
   "outputs": [
    {
     "data": {
      "text/plain": [
       "[(20222333, 45, 2, 20000), (333456234, 40, 0, 25000)]"
      ]
     },
     "execution_count": 40,
     "metadata": {},
     "output_type": "execute_result"
    }
   ],
   "source": [
    "superanSalarioActividad01(empleado_01,15000)"
   ]
  },
  {
   "cell_type": "code",
   "execution_count": 94,
   "metadata": {},
   "outputs": [
    {
     "name": "stdout",
     "output_type": "stream",
     "text": [
      "CUANTO LES COSTÓ IMPLEMENTAR LA FUNCION? RTA: Nada\n"
     ]
    }
   ],
   "source": [
    "esfuerzo = \"Nada\"\n",
    "\n",
    "def mensaje(esfuerzo: str):\n",
    "    print(\"CUANTO LES COSTÓ IMPLEMENTAR LA FUNCION?\",\"RTA:\",esfuerzo)\n",
    "    \n",
    "mensaje(esfuerzo)"
   ]
  },
  {
   "cell_type": "markdown",
   "metadata": {},
   "source": [
    "ACTIVIDAD 2"
   ]
  },
  {
   "cell_type": "code",
   "execution_count": 90,
   "metadata": {},
   "outputs": [],
   "source": [
    "#Que pasa si agrego mas fias?\n",
    "'''No pasa nada, ya que mi función recibe datos con el mismo formato que en la actividad 1'''\n",
    "empleado_02 = empleado_01.copy()\n",
    "empleado_02.append((43967304,37,0,12000))\n",
    "empleado_02.append((42236276,36,0,18000))\n",
    "\n",
    "#La funcion superaSalarioActividad01 sigue funcionando?\n",
    "#RTA: sí, continua funcionando como antes"
   ]
  },
  {
   "cell_type": "markdown",
   "metadata": {},
   "source": [
    "ACTIVIDAD 3"
   ]
  },
  {
   "cell_type": "code",
   "execution_count": 86,
   "metadata": {},
   "outputs": [],
   "source": [
    "#que pasa si se modifica el orden de las columnas?\n",
    "''' priori podria seguir implementando la misma función que antes, solamente que debería editar el codigo para que reciba como filtro de salario otra entrada,\n",
    "pero como pide que la salida siga teniendo el mismo formato que la funcion superanSalarioActividad01 entonces debo hacer una transformacion de los datos \n",
    "de entrada'''\n",
    "\n",
    "empleado_03 = [(20222333,20000,45,2),(33456234,25000,40,0),(45432345,10000,41,1),(43967304,12000,37,0),(4223626,18000,36,0)]"
   ]
  },
  {
   "cell_type": "code",
   "execution_count": 87,
   "metadata": {},
   "outputs": [],
   "source": [
    "#la funcion superanSalarioActividad01 sigue funcionando?\n",
    "'''No funciona. Es casi la misma funcion, solo que hay que modificarla ligeramente'''\n",
    "def superanSalarioActividad03(matriz:list,umbral):\n",
    "    coleccion_inicial=[]\n",
    "    for indice in range(len(matriz)):\n",
    "        if matriz[indice][1] > umbral:\n",
    "            coleccion_inicial.append(matriz[indice])\n",
    "    coleccion_final=[]\n",
    "    for tupla in coleccion_inicial:\n",
    "        tupla = (tupla[0],tupla[3],tupla[2],tupla[1])\n",
    "        coleccion_final.append(tupla)\n",
    "\n",
    "    return coleccion_final"
   ]
  },
  {
   "cell_type": "code",
   "execution_count": 88,
   "metadata": {},
   "outputs": [
    {
     "data": {
      "text/plain": [
       "[(20222333, 2, 45, 20000), (33456234, 0, 40, 25000), (4223626, 0, 36, 18000)]"
      ]
     },
     "execution_count": 88,
     "metadata": {},
     "output_type": "execute_result"
    }
   ],
   "source": [
    "superanSalarioActividad03(empleado_03,15000)"
   ]
  },
  {
   "cell_type": "markdown",
   "metadata": {},
   "source": [
    "ACTIVIDAD 4"
   ]
  },
  {
   "cell_type": "code",
   "execution_count": 89,
   "metadata": {},
   "outputs": [],
   "source": [
    "#que pasa si a la matriz de entrada se la implementa como lista de columnas?\n",
    "'''Ocure que debo cambiar la forma en que itero la matriz para que sea orientada a columnas.'''\n",
    "empleado_04 = [(20222333,33456234,45432345,43967304,42236276),(20000,25000,10000,12000,18000),(45,40,41,37,36),(2,0,1,0,0)]"
   ]
  },
  {
   "cell_type": "code",
   "execution_count": 68,
   "metadata": {},
   "outputs": [],
   "source": [
    "#alguna de las funciones anteriores, sigue funcionando?\n",
    "'''Ninguna de las funciones anteriores sirve.'''\n",
    "def superanSalarioActividad04(matriz:list,umbral):\n",
    "    coleccion_inicial=[]\n",
    "    for indice in range(len(matriz[0])): #itera por columnas\n",
    "        tupla=(matriz[0][indice],matriz[2][indice],matriz[3][indice],matriz[1][indice])\n",
    "        coleccion_inicial.append(tupla)\n",
    "    coleccion_final=[]\n",
    "    for tupla in coleccion_inicial:\n",
    "        if tupla[3]>umbral:\n",
    "            coleccion_final.append(tupla)\n",
    "\n",
    "    return coleccion_final"
   ]
  },
  {
   "cell_type": "code",
   "execution_count": 69,
   "metadata": {},
   "outputs": [
    {
     "data": {
      "text/plain": [
       "[(20222333, 45, 2, 20000), (33456234, 40, 0, 25000), (42236276, 36, 0, 18000)]"
      ]
     },
     "execution_count": 69,
     "metadata": {},
     "output_type": "execute_result"
    }
   ],
   "source": [
    "superanSalarioActividad04(empleado_04,15000)"
   ]
  },
  {
   "cell_type": "markdown",
   "metadata": {},
   "source": [
    "ACTIVIDAD 5"
   ]
  },
  {
   "cell_type": "code",
   "execution_count": null,
   "metadata": {},
   "outputs": [],
   "source": [
    "#Como afecto a la programacion de la funcion cuando cambiaron levemente la matriz de empleado?\n",
    "'''En el caso en que se agregaron mas filas, no cambio nada.\n",
    "En el caso en que se alteraron el orden de las columnas, esto impacto\n",
    "en la salida esperada por la funcion.\n",
    "'''\n",
    "\n",
    "#Y cuando a empleado le cambiaron la forma de representar las matrices (de lista de filas a columnas?)\n",
    "'''Fue todavia mas grave el impacto en el funcionamiento de la funcion. Hubo que hacer una nueva\n",
    "para adaptarnos a la salida que se esperaba de ella.'''"
   ]
  }
 ],
 "metadata": {
  "application/vnd.databricks.v1+notebook": {
   "dashboards": [],
   "environmentMetadata": null,
   "language": "python",
   "notebookMetadata": {
    "pythonIndentUnit": 4
   },
   "notebookName": "Untitled Notebook 2024-09-01 00:28:36",
   "widgets": {}
  },
  "kernelspec": {
   "display_name": "Python 3",
   "language": "python",
   "name": "python3"
  },
  "language_info": {
   "codemirror_mode": {
    "name": "ipython",
    "version": 3
   },
   "file_extension": ".py",
   "mimetype": "text/x-python",
   "name": "python",
   "nbconvert_exporter": "python",
   "pygments_lexer": "ipython3",
   "version": "3.12.3"
  }
 },
 "nbformat": 4,
 "nbformat_minor": 0
}
