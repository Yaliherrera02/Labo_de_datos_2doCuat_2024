{
 "cells": [
  {
   "cell_type": "code",
   "execution_count": 4,
   "metadata": {},
   "outputs": [],
   "source": [
    "import pandas as pd\n",
    "import matplotlib.pyplot as plt\n",
    "#from pandas import DataFrame as df\n"
   ]
  },
  {
   "cell_type": "markdown",
   "metadata": {},
   "source": [
    "## Ejercicio 1"
   ]
  },
  {
   "cell_type": "code",
   "execution_count": 8,
   "metadata": {},
   "outputs": [],
   "source": [
    "def leer_parque(nombre_archivo, parque):\n",
    "    # Leer el archivo CSV directamente con pandas\n",
    "    df = pd.read_csv(nombre_archivo)\n",
    "    # Filtrar el DataFrame por el nombre del parque\n",
    "    df_filtrado = df[df['espacio_ve'] == parque] \n",
    "    lista_con_info = []\n",
    "    for _, row in df_filtrado.iterrows():\n",
    "        # Crear un diccionario para la fila actual\n",
    "        diccionario = {}\n",
    "        # Iterar sobre cada columna y agregar al diccionario\n",
    "        for col in df_filtrado.columns:\n",
    "            diccionario[col] = row[col] #SACO EL ELEMENTO QUE HAY EN ESA FILA, OSEA SACO EL ELEMENTO ROW[LONG]\n",
    "        \n",
    "        # Agregar el diccionario a la lista\n",
    "        lista_con_info.append(diccionario)\n",
    "    return lista_con_info\n",
    "#SE TIENE QUE USAR TO DICT\n",
    "\n",
    "\n",
    "#leer_parque(\"arbolado-en-espacios-verdes.csv\",\"GENERAL PAZ\")"
   ]
  },
  {
   "cell_type": "markdown",
   "metadata": {},
   "source": [
    "## Ejercicio 4\n"
   ]
  },
  {
   "cell_type": "code",
   "execution_count": 9,
   "metadata": {},
   "outputs": [],
   "source": [
    "def obtener_alturas(lista_arboles:list[dict], especie:str):\n",
    "    df = pd.read_csv(\"arbolado-en-espacios-verdes.csv\")\n",
    "\n",
    "    df_filtrado_especie=df[df[\"nombre_com\"]==especie]\n",
    "    df_alturas=df_filtrado_especie['altura_tot']\n",
    "    lista_alturas=df_alturas.tolist()\n",
    "    return lista_alturas\n",
    "\n",
    "#lista_gral_paz= leer_parque(\"arbolado-en-espacios-verdes.csv\",\"GENERAL PAZ\")\n",
    "#print(obtener_alturas(lista_gral_paz,\"Washingtonia\"))\n"
   ]
  },
  {
   "cell_type": "markdown",
   "metadata": {},
   "source": [
    "## Ejercicio 5"
   ]
  },
  {
   "cell_type": "code",
   "execution_count": 10,
   "metadata": {},
   "outputs": [],
   "source": [
    "def obtener_inclinaciones(lista_arboles:list[dict], especie:str):\n",
    "    df = pd.read_csv(\"arbolado-en-espacios-verdes.csv\")\n",
    "\n",
    "    df_filtrado_especie=df[df[\"nombre_com\"]==especie]\n",
    "    df_inclinaciones=df_filtrado_especie['inclinacio']\n",
    "    lista_inclinaciones=df_inclinaciones.tolist()\n",
    "    return lista_inclinaciones\n"
   ]
  },
  {
   "cell_type": "markdown",
   "metadata": {},
   "source": [
    "## Ejercicio 6"
   ]
  },
  {
   "cell_type": "code",
   "execution_count": null,
   "metadata": {},
   "outputs": [],
   "source": []
  },
  {
   "cell_type": "code",
   "execution_count": 5,
   "metadata": {},
   "outputs": [
    {
     "name": "stdout",
     "output_type": "stream",
     "text": [
      "Serie booleana de álamos plateados:\n",
      "1698     False\n",
      "1699     False\n",
      "1701     False\n",
      "1702     False\n",
      "1703     False\n",
      "         ...  \n",
      "46358     True\n",
      "46359     True\n",
      "46360     True\n",
      "46361    False\n",
      "50143    False\n",
      "Name: nombre_com, Length: 316, dtype: bool\n",
      "\n",
      "Álamos plateados:\n",
      "      nombre_com  inclinacio\n",
      "7850       Pindó           0\n",
      "20113      Pindó           0\n",
      "20114      Pindó           0\n",
      "20115      Pindó           0\n",
      "32789      Pindó           6\n",
      "32883      Pindó           0\n",
      "46131      Pindó          20\n",
      "46246      Pindó           0\n",
      "46357      Pindó           0\n",
      "46358      Pindó           0\n",
      "46359      Pindó           0\n",
      "46360      Pindó           0\n",
      "\n",
      "Hay 12 álamos plateados en ANDES, LOS\n"
     ]
    }
   ],
   "source": [
    "\n",
    "# Cargar el CSV\n",
    "df = pd.read_csv(\"arbolado-en-espacios-verdes.csv\")\n",
    "\n",
    "# Filtrar los árboles de 'ANDES, LOS' sin cambiar el índice\n",
    "arboles = df[df['espacio_ve'] == 'ANDES, LOS']\n",
    "\n",
    "# Seleccionar solo la columna 'nombre_com'\n",
    "arboles = arboles[['nombre_com','inclinacio']]\n",
    "# Crear una serie booleana para los álamos plateados\n",
    "especie_alamo = arboles['nombre_com'] == \"Pindó\"\n",
    "\n",
    "# Mostrar los resultados\n",
    "print(\"Serie booleana de álamos plateados:\")\n",
    "print(especie_alamo)\n",
    "alamos_plateados = arboles[especie_alamo]\n",
    "print(\"\\nÁlamos plateados:\")\n",
    "print(alamos_plateados)\n",
    "\n",
    "# Si quieres contar cuántos hay:\n",
    "cantidad_alamos = especie_alamo.sum()\n",
    "print(f\"\\nHay {cantidad_alamos} álamos plateados en ANDES, LOS\")"
   ]
  }
 ],
 "metadata": {
  "kernelspec": {
   "display_name": ".venv",
   "language": "python",
   "name": "python3"
  },
  "language_info": {
   "codemirror_mode": {
    "name": "ipython",
    "version": 3
   },
   "file_extension": ".py",
   "mimetype": "text/x-python",
   "name": "python",
   "nbconvert_exporter": "python",
   "pygments_lexer": "ipython3",
   "version": "3.12.3"
  }
 },
 "nbformat": 4,
 "nbformat_minor": 2
}
